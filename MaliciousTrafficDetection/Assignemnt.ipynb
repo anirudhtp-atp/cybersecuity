{
 "cells": [
  {
   "cell_type": "code",
   "execution_count": 99,
   "id": "c9eb0053",
   "metadata": {},
   "outputs": [
    {
     "name": "stdout",
     "output_type": "stream",
     "text": [
      "Collecting kmodesNote: you may need to restart the kernel to use updated packages.\n",
      "  Downloading kmodes-0.11.1-py2.py3-none-any.whl (19 kB)\n",
      "\n",
      "Requirement already satisfied: scipy>=0.13.3 in c:\\users\\anirudhtp\\anaconda3\\envs\\cyberarmy\\lib\\site-packages (from kmodes) (1.7.3)\n",
      "Requirement already satisfied: numpy>=1.10.4 in c:\\users\\anirudhtp\\anaconda3\\envs\\cyberarmy\\lib\\site-packages (from kmodes) (1.21.5)\n",
      "Requirement already satisfied: scikit-learn>=0.22.0 in c:\\users\\anirudhtp\\anaconda3\\envs\\cyberarmy\\lib\\site-packages (from kmodes) (1.0.1)\n",
      "Requirement already satisfied: joblib>=0.11 in c:\\users\\anirudhtp\\anaconda3\\envs\\cyberarmy\\lib\\site-packages (from kmodes) (1.1.0)\n",
      "Requirement already satisfied: threadpoolctl>=2.0.0 in c:\\users\\anirudhtp\\anaconda3\\envs\\cyberarmy\\lib\\site-packages (from scikit-learn>=0.22.0->kmodes) (3.0.0)\n",
      "Installing collected packages: kmodes\n",
      "Successfully installed kmodes-0.11.1\n"
     ]
    }
   ],
   "source": [
    "pip install kmodes"
   ]
  },
  {
   "cell_type": "code",
   "execution_count": 4,
   "id": "fda5662d",
   "metadata": {},
   "outputs": [],
   "source": [
    "import pandas as pd"
   ]
  },
  {
   "cell_type": "code",
   "execution_count": 10,
   "id": "748ed785",
   "metadata": {},
   "outputs": [
    {
     "data": {
      "text/plain": [
       "{'encoding': 'UTF-16', 'confidence': 1.0, 'language': ''}"
      ]
     },
     "execution_count": 10,
     "metadata": {},
     "output_type": "execute_result"
    }
   ],
   "source": [
    "## Identify encoding for csv\n",
    "import chardet\n",
    "with open(\"Training_data.csv\", 'rb') as rawdata:\n",
    "    result = chardet.detect(rawdata.read(100000))\n",
    "result"
   ]
  },
  {
   "cell_type": "code",
   "execution_count": null,
   "id": "f1dd1746",
   "metadata": {},
   "outputs": [],
   "source": []
  },
  {
   "cell_type": "code",
   "execution_count": 20,
   "id": "6956b2b7",
   "metadata": {},
   "outputs": [],
   "source": [
    "data = pd.read_csv(\"Training_data.csv\", encoding=\"UTF-16\", header=None, on_bad_lines='skip',sep='\\t')"
   ]
  },
  {
   "cell_type": "code",
   "execution_count": 21,
   "id": "97cb5120",
   "metadata": {},
   "outputs": [
    {
     "data": {
      "text/plain": [
       "(9388270, 13)"
      ]
     },
     "execution_count": 21,
     "metadata": {},
     "output_type": "execute_result"
    }
   ],
   "source": [
    "data.shape"
   ]
  },
  {
   "cell_type": "code",
   "execution_count": 22,
   "id": "99360420",
   "metadata": {},
   "outputs": [],
   "source": [
    "# Selects random 15000 samples\n",
    "data = data.sample(n=15000)"
   ]
  },
  {
   "cell_type": "code",
   "execution_count": 23,
   "id": "6de7dd13",
   "metadata": {},
   "outputs": [],
   "source": [
    "headers = [\"frame_no\",\"frame_arrival_time\",\"eth_src_address\",\"eth_dst_address\",\"ip_src\",\"ip_dst\",\"tcp_src_port\",\"tcp_dst_port\",\"udp_src_port\",\"udp_dst_port\",\"frame_relative_time\",\"frame_length\",\"frame_time_duplicate\"]"
   ]
  },
  {
   "cell_type": "code",
   "execution_count": 25,
   "id": "72acfc29",
   "metadata": {},
   "outputs": [],
   "source": [
    "# Adding headers\n",
    "data.columns = headers"
   ]
  },
  {
   "cell_type": "code",
   "execution_count": 26,
   "id": "10f764b7",
   "metadata": {},
   "outputs": [
    {
     "data": {
      "text/html": [
       "<div>\n",
       "<style scoped>\n",
       "    .dataframe tbody tr th:only-of-type {\n",
       "        vertical-align: middle;\n",
       "    }\n",
       "\n",
       "    .dataframe tbody tr th {\n",
       "        vertical-align: top;\n",
       "    }\n",
       "\n",
       "    .dataframe thead th {\n",
       "        text-align: right;\n",
       "    }\n",
       "</style>\n",
       "<table border=\"1\" class=\"dataframe\">\n",
       "  <thead>\n",
       "    <tr style=\"text-align: right;\">\n",
       "      <th></th>\n",
       "      <th>frame_no</th>\n",
       "      <th>frame_arrival_time</th>\n",
       "      <th>eth_src_address</th>\n",
       "      <th>eth_dst_address</th>\n",
       "      <th>ip_src</th>\n",
       "      <th>ip_dst</th>\n",
       "      <th>tcp_src_port</th>\n",
       "      <th>tcp_dst_port</th>\n",
       "      <th>udp_src_port</th>\n",
       "      <th>udp_dst_port</th>\n",
       "      <th>frame_relative_time</th>\n",
       "      <th>frame_length</th>\n",
       "      <th>frame_time_duplicate</th>\n",
       "    </tr>\n",
       "  </thead>\n",
       "  <tbody>\n",
       "    <tr>\n",
       "      <th>2439698</th>\n",
       "      <td>2439699</td>\n",
       "      <td>NaN</td>\n",
       "      <td>00:44:66:fc:29:af</td>\n",
       "      <td>00:55:22:af:c6:37</td>\n",
       "      <td>195.50.87.130</td>\n",
       "      <td>172.16.2.2</td>\n",
       "      <td>80.0</td>\n",
       "      <td>1097.0</td>\n",
       "      <td>NaN</td>\n",
       "      <td>NaN</td>\n",
       "      <td>-1.211071e+08</td>\n",
       "      <td>96</td>\n",
       "      <td>Oct  8, 2007 21:40:45.952513000 India Standard...</td>\n",
       "    </tr>\n",
       "    <tr>\n",
       "      <th>8691406</th>\n",
       "      <td>8691407</td>\n",
       "      <td>NaN</td>\n",
       "      <td>00:22:19:20:7b:d3</td>\n",
       "      <td>00:01:02:72:ab:55</td>\n",
       "      <td>192.168.5.122</td>\n",
       "      <td>80.66.211.179</td>\n",
       "      <td>22.0</td>\n",
       "      <td>56055.0</td>\n",
       "      <td>NaN</td>\n",
       "      <td>NaN</td>\n",
       "      <td>-3.658922e+07</td>\n",
       "      <td>850</td>\n",
       "      <td>Jun 13, 2010 02:51:16.699289000 India Standard...</td>\n",
       "    </tr>\n",
       "    <tr>\n",
       "      <th>6833917</th>\n",
       "      <td>6833918</td>\n",
       "      <td>NaN</td>\n",
       "      <td>00:01:02:72:ab:55</td>\n",
       "      <td>00:e0:b1:87:f5:94</td>\n",
       "      <td>68.178.178.97</td>\n",
       "      <td>192.168.1.105</td>\n",
       "      <td>80.0</td>\n",
       "      <td>18498.0</td>\n",
       "      <td>NaN</td>\n",
       "      <td>NaN</td>\n",
       "      <td>-3.661690e+07</td>\n",
       "      <td>1434</td>\n",
       "      <td>Jun 12, 2010 19:10:01.112932000 India Standard...</td>\n",
       "    </tr>\n",
       "    <tr>\n",
       "      <th>1157506</th>\n",
       "      <td>1157507</td>\n",
       "      <td>NaN</td>\n",
       "      <td>08:00:27:b5:b7:19</td>\n",
       "      <td>00:1e:49:db:19:c3</td>\n",
       "      <td>147.32.84.165</td>\n",
       "      <td>124.13.76.15</td>\n",
       "      <td>NaN</td>\n",
       "      <td>NaN</td>\n",
       "      <td>7600.0</td>\n",
       "      <td>7600.0</td>\n",
       "      <td>7.795812e+05</td>\n",
       "      <td>1098</td>\n",
       "      <td>Aug 19, 2011 15:04:41.713501000 India Standard...</td>\n",
       "    </tr>\n",
       "    <tr>\n",
       "      <th>8575890</th>\n",
       "      <td>8575891</td>\n",
       "      <td>NaN</td>\n",
       "      <td>00:09:6b:e9:a9:00</td>\n",
       "      <td>00:e0:b1:87:f5:94</td>\n",
       "      <td>192.168.2.110</td>\n",
       "      <td>69.192.24.88</td>\n",
       "      <td>3902.0</td>\n",
       "      <td>80.0</td>\n",
       "      <td>NaN</td>\n",
       "      <td>NaN</td>\n",
       "      <td>-3.659280e+07</td>\n",
       "      <td>60</td>\n",
       "      <td>Jun 13, 2010 01:51:38.592182000 India Standard...</td>\n",
       "    </tr>\n",
       "  </tbody>\n",
       "</table>\n",
       "</div>"
      ],
      "text/plain": [
       "         frame_no  frame_arrival_time    eth_src_address    eth_dst_address  \\\n",
       "2439698   2439699                 NaN  00:44:66:fc:29:af  00:55:22:af:c6:37   \n",
       "8691406   8691407                 NaN  00:22:19:20:7b:d3  00:01:02:72:ab:55   \n",
       "6833917   6833918                 NaN  00:01:02:72:ab:55  00:e0:b1:87:f5:94   \n",
       "1157506   1157507                 NaN  08:00:27:b5:b7:19  00:1e:49:db:19:c3   \n",
       "8575890   8575891                 NaN  00:09:6b:e9:a9:00  00:e0:b1:87:f5:94   \n",
       "\n",
       "                ip_src         ip_dst  tcp_src_port  tcp_dst_port  \\\n",
       "2439698  195.50.87.130     172.16.2.2          80.0        1097.0   \n",
       "8691406  192.168.5.122  80.66.211.179          22.0       56055.0   \n",
       "6833917  68.178.178.97  192.168.1.105          80.0       18498.0   \n",
       "1157506  147.32.84.165   124.13.76.15           NaN           NaN   \n",
       "8575890  192.168.2.110   69.192.24.88        3902.0          80.0   \n",
       "\n",
       "         udp_src_port  udp_dst_port  frame_relative_time  frame_length  \\\n",
       "2439698           NaN           NaN        -1.211071e+08            96   \n",
       "8691406           NaN           NaN        -3.658922e+07           850   \n",
       "6833917           NaN           NaN        -3.661690e+07          1434   \n",
       "1157506        7600.0        7600.0         7.795812e+05          1098   \n",
       "8575890           NaN           NaN        -3.659280e+07            60   \n",
       "\n",
       "                                      frame_time_duplicate  \n",
       "2439698  Oct  8, 2007 21:40:45.952513000 India Standard...  \n",
       "8691406  Jun 13, 2010 02:51:16.699289000 India Standard...  \n",
       "6833917  Jun 12, 2010 19:10:01.112932000 India Standard...  \n",
       "1157506  Aug 19, 2011 15:04:41.713501000 India Standard...  \n",
       "8575890  Jun 13, 2010 01:51:38.592182000 India Standard...  "
      ]
     },
     "execution_count": 26,
     "metadata": {},
     "output_type": "execute_result"
    }
   ],
   "source": [
    "data.head()"
   ]
  },
  {
   "cell_type": "code",
   "execution_count": 29,
   "id": "cf1e01fc",
   "metadata": {},
   "outputs": [],
   "source": [
    "data.drop(\"frame_arrival_time\", inplace=True, axis=1)"
   ]
  },
  {
   "cell_type": "code",
   "execution_count": 31,
   "id": "7a9a03d8",
   "metadata": {},
   "outputs": [],
   "source": [
    "data.rename(columns={\"frame_time_duplicate\":\"frame_arival_time\"},inplace=True)"
   ]
  },
  {
   "cell_type": "code",
   "execution_count": 32,
   "id": "cba234a6",
   "metadata": {},
   "outputs": [
    {
     "data": {
      "text/html": [
       "<div>\n",
       "<style scoped>\n",
       "    .dataframe tbody tr th:only-of-type {\n",
       "        vertical-align: middle;\n",
       "    }\n",
       "\n",
       "    .dataframe tbody tr th {\n",
       "        vertical-align: top;\n",
       "    }\n",
       "\n",
       "    .dataframe thead th {\n",
       "        text-align: right;\n",
       "    }\n",
       "</style>\n",
       "<table border=\"1\" class=\"dataframe\">\n",
       "  <thead>\n",
       "    <tr style=\"text-align: right;\">\n",
       "      <th></th>\n",
       "      <th>frame_no</th>\n",
       "      <th>eth_src_address</th>\n",
       "      <th>eth_dst_address</th>\n",
       "      <th>ip_src</th>\n",
       "      <th>ip_dst</th>\n",
       "      <th>tcp_src_port</th>\n",
       "      <th>tcp_dst_port</th>\n",
       "      <th>udp_src_port</th>\n",
       "      <th>udp_dst_port</th>\n",
       "      <th>frame_relative_time</th>\n",
       "      <th>frame_length</th>\n",
       "      <th>frame_arival_time</th>\n",
       "    </tr>\n",
       "  </thead>\n",
       "  <tbody>\n",
       "    <tr>\n",
       "      <th>2439698</th>\n",
       "      <td>2439699</td>\n",
       "      <td>00:44:66:fc:29:af</td>\n",
       "      <td>00:55:22:af:c6:37</td>\n",
       "      <td>195.50.87.130</td>\n",
       "      <td>172.16.2.2</td>\n",
       "      <td>80.0</td>\n",
       "      <td>1097.0</td>\n",
       "      <td>NaN</td>\n",
       "      <td>NaN</td>\n",
       "      <td>-1.211071e+08</td>\n",
       "      <td>96</td>\n",
       "      <td>Oct  8, 2007 21:40:45.952513000 India Standard...</td>\n",
       "    </tr>\n",
       "    <tr>\n",
       "      <th>8691406</th>\n",
       "      <td>8691407</td>\n",
       "      <td>00:22:19:20:7b:d3</td>\n",
       "      <td>00:01:02:72:ab:55</td>\n",
       "      <td>192.168.5.122</td>\n",
       "      <td>80.66.211.179</td>\n",
       "      <td>22.0</td>\n",
       "      <td>56055.0</td>\n",
       "      <td>NaN</td>\n",
       "      <td>NaN</td>\n",
       "      <td>-3.658922e+07</td>\n",
       "      <td>850</td>\n",
       "      <td>Jun 13, 2010 02:51:16.699289000 India Standard...</td>\n",
       "    </tr>\n",
       "    <tr>\n",
       "      <th>6833917</th>\n",
       "      <td>6833918</td>\n",
       "      <td>00:01:02:72:ab:55</td>\n",
       "      <td>00:e0:b1:87:f5:94</td>\n",
       "      <td>68.178.178.97</td>\n",
       "      <td>192.168.1.105</td>\n",
       "      <td>80.0</td>\n",
       "      <td>18498.0</td>\n",
       "      <td>NaN</td>\n",
       "      <td>NaN</td>\n",
       "      <td>-3.661690e+07</td>\n",
       "      <td>1434</td>\n",
       "      <td>Jun 12, 2010 19:10:01.112932000 India Standard...</td>\n",
       "    </tr>\n",
       "    <tr>\n",
       "      <th>1157506</th>\n",
       "      <td>1157507</td>\n",
       "      <td>08:00:27:b5:b7:19</td>\n",
       "      <td>00:1e:49:db:19:c3</td>\n",
       "      <td>147.32.84.165</td>\n",
       "      <td>124.13.76.15</td>\n",
       "      <td>NaN</td>\n",
       "      <td>NaN</td>\n",
       "      <td>7600.0</td>\n",
       "      <td>7600.0</td>\n",
       "      <td>7.795812e+05</td>\n",
       "      <td>1098</td>\n",
       "      <td>Aug 19, 2011 15:04:41.713501000 India Standard...</td>\n",
       "    </tr>\n",
       "    <tr>\n",
       "      <th>8575890</th>\n",
       "      <td>8575891</td>\n",
       "      <td>00:09:6b:e9:a9:00</td>\n",
       "      <td>00:e0:b1:87:f5:94</td>\n",
       "      <td>192.168.2.110</td>\n",
       "      <td>69.192.24.88</td>\n",
       "      <td>3902.0</td>\n",
       "      <td>80.0</td>\n",
       "      <td>NaN</td>\n",
       "      <td>NaN</td>\n",
       "      <td>-3.659280e+07</td>\n",
       "      <td>60</td>\n",
       "      <td>Jun 13, 2010 01:51:38.592182000 India Standard...</td>\n",
       "    </tr>\n",
       "    <tr>\n",
       "      <th>...</th>\n",
       "      <td>...</td>\n",
       "      <td>...</td>\n",
       "      <td>...</td>\n",
       "      <td>...</td>\n",
       "      <td>...</td>\n",
       "      <td>...</td>\n",
       "      <td>...</td>\n",
       "      <td>...</td>\n",
       "      <td>...</td>\n",
       "      <td>...</td>\n",
       "      <td>...</td>\n",
       "      <td>...</td>\n",
       "    </tr>\n",
       "    <tr>\n",
       "      <th>8926885</th>\n",
       "      <td>8926886</td>\n",
       "      <td>00:09:6b:e9:a9:00</td>\n",
       "      <td>00:e0:b1:87:f5:94</td>\n",
       "      <td>192.168.2.110</td>\n",
       "      <td>69.84.133.138</td>\n",
       "      <td>4721.0</td>\n",
       "      <td>80.0</td>\n",
       "      <td>NaN</td>\n",
       "      <td>NaN</td>\n",
       "      <td>-3.658240e+07</td>\n",
       "      <td>120</td>\n",
       "      <td>Jun 13, 2010 04:45:00.096544000 India Standard...</td>\n",
       "    </tr>\n",
       "    <tr>\n",
       "      <th>659914</th>\n",
       "      <td>659915</td>\n",
       "      <td>08:00:27:b5:b7:19</td>\n",
       "      <td>00:1e:49:db:19:c3</td>\n",
       "      <td>147.32.84.170</td>\n",
       "      <td>38.229.70.20</td>\n",
       "      <td>1027.0</td>\n",
       "      <td>6667.0</td>\n",
       "      <td>NaN</td>\n",
       "      <td>NaN</td>\n",
       "      <td>3.802595e+05</td>\n",
       "      <td>79</td>\n",
       "      <td>Aug 15, 2011 00:09:20.010979000 India Standard...</td>\n",
       "    </tr>\n",
       "    <tr>\n",
       "      <th>8258387</th>\n",
       "      <td>8258388</td>\n",
       "      <td>00:01:02:72:ab:55</td>\n",
       "      <td>00:e0:b1:87:f5:94</td>\n",
       "      <td>74.63.40.21</td>\n",
       "      <td>192.168.4.120</td>\n",
       "      <td>80.0</td>\n",
       "      <td>1434.0</td>\n",
       "      <td>NaN</td>\n",
       "      <td>NaN</td>\n",
       "      <td>-3.659688e+07</td>\n",
       "      <td>1434</td>\n",
       "      <td>Jun 13, 2010 00:43:42.041527000 India Standard...</td>\n",
       "    </tr>\n",
       "    <tr>\n",
       "      <th>6738692</th>\n",
       "      <td>6738693</td>\n",
       "      <td>00:01:02:72:ab:55</td>\n",
       "      <td>00:e0:b1:87:f5:94</td>\n",
       "      <td>74.63.40.21</td>\n",
       "      <td>192.168.4.120</td>\n",
       "      <td>80.0</td>\n",
       "      <td>4432.0</td>\n",
       "      <td>NaN</td>\n",
       "      <td>NaN</td>\n",
       "      <td>-3.661869e+07</td>\n",
       "      <td>1434</td>\n",
       "      <td>Jun 12, 2010 18:40:15.358540000 India Standard...</td>\n",
       "    </tr>\n",
       "    <tr>\n",
       "      <th>7999238</th>\n",
       "      <td>7999239</td>\n",
       "      <td>00:09:6b:e9:d0:88</td>\n",
       "      <td>00:e0:b1:87:f5:94</td>\n",
       "      <td>192.168.2.113</td>\n",
       "      <td>69.84.133.138</td>\n",
       "      <td>3193.0</td>\n",
       "      <td>80.0</td>\n",
       "      <td>NaN</td>\n",
       "      <td>NaN</td>\n",
       "      <td>-3.659752e+07</td>\n",
       "      <td>60</td>\n",
       "      <td>Jun 13, 2010 00:32:57.324797000 India Standard...</td>\n",
       "    </tr>\n",
       "  </tbody>\n",
       "</table>\n",
       "<p>15000 rows × 12 columns</p>\n",
       "</div>"
      ],
      "text/plain": [
       "         frame_no    eth_src_address    eth_dst_address         ip_src  \\\n",
       "2439698   2439699  00:44:66:fc:29:af  00:55:22:af:c6:37  195.50.87.130   \n",
       "8691406   8691407  00:22:19:20:7b:d3  00:01:02:72:ab:55  192.168.5.122   \n",
       "6833917   6833918  00:01:02:72:ab:55  00:e0:b1:87:f5:94  68.178.178.97   \n",
       "1157506   1157507  08:00:27:b5:b7:19  00:1e:49:db:19:c3  147.32.84.165   \n",
       "8575890   8575891  00:09:6b:e9:a9:00  00:e0:b1:87:f5:94  192.168.2.110   \n",
       "...           ...                ...                ...            ...   \n",
       "8926885   8926886  00:09:6b:e9:a9:00  00:e0:b1:87:f5:94  192.168.2.110   \n",
       "659914     659915  08:00:27:b5:b7:19  00:1e:49:db:19:c3  147.32.84.170   \n",
       "8258387   8258388  00:01:02:72:ab:55  00:e0:b1:87:f5:94    74.63.40.21   \n",
       "6738692   6738693  00:01:02:72:ab:55  00:e0:b1:87:f5:94    74.63.40.21   \n",
       "7999238   7999239  00:09:6b:e9:d0:88  00:e0:b1:87:f5:94  192.168.2.113   \n",
       "\n",
       "                ip_dst  tcp_src_port  tcp_dst_port  udp_src_port  \\\n",
       "2439698     172.16.2.2          80.0        1097.0           NaN   \n",
       "8691406  80.66.211.179          22.0       56055.0           NaN   \n",
       "6833917  192.168.1.105          80.0       18498.0           NaN   \n",
       "1157506   124.13.76.15           NaN           NaN        7600.0   \n",
       "8575890   69.192.24.88        3902.0          80.0           NaN   \n",
       "...                ...           ...           ...           ...   \n",
       "8926885  69.84.133.138        4721.0          80.0           NaN   \n",
       "659914    38.229.70.20        1027.0        6667.0           NaN   \n",
       "8258387  192.168.4.120          80.0        1434.0           NaN   \n",
       "6738692  192.168.4.120          80.0        4432.0           NaN   \n",
       "7999238  69.84.133.138        3193.0          80.0           NaN   \n",
       "\n",
       "         udp_dst_port  frame_relative_time  frame_length  \\\n",
       "2439698           NaN        -1.211071e+08            96   \n",
       "8691406           NaN        -3.658922e+07           850   \n",
       "6833917           NaN        -3.661690e+07          1434   \n",
       "1157506        7600.0         7.795812e+05          1098   \n",
       "8575890           NaN        -3.659280e+07            60   \n",
       "...               ...                  ...           ...   \n",
       "8926885           NaN        -3.658240e+07           120   \n",
       "659914            NaN         3.802595e+05            79   \n",
       "8258387           NaN        -3.659688e+07          1434   \n",
       "6738692           NaN        -3.661869e+07          1434   \n",
       "7999238           NaN        -3.659752e+07            60   \n",
       "\n",
       "                                         frame_arival_time  \n",
       "2439698  Oct  8, 2007 21:40:45.952513000 India Standard...  \n",
       "8691406  Jun 13, 2010 02:51:16.699289000 India Standard...  \n",
       "6833917  Jun 12, 2010 19:10:01.112932000 India Standard...  \n",
       "1157506  Aug 19, 2011 15:04:41.713501000 India Standard...  \n",
       "8575890  Jun 13, 2010 01:51:38.592182000 India Standard...  \n",
       "...                                                    ...  \n",
       "8926885  Jun 13, 2010 04:45:00.096544000 India Standard...  \n",
       "659914   Aug 15, 2011 00:09:20.010979000 India Standard...  \n",
       "8258387  Jun 13, 2010 00:43:42.041527000 India Standard...  \n",
       "6738692  Jun 12, 2010 18:40:15.358540000 India Standard...  \n",
       "7999238  Jun 13, 2010 00:32:57.324797000 India Standard...  \n",
       "\n",
       "[15000 rows x 12 columns]"
      ]
     },
     "execution_count": 32,
     "metadata": {},
     "output_type": "execute_result"
    }
   ],
   "source": [
    "data"
   ]
  },
  {
   "cell_type": "code",
   "execution_count": null,
   "id": "3ddf0a9a",
   "metadata": {},
   "outputs": [],
   "source": []
  },
  {
   "cell_type": "code",
   "execution_count": null,
   "id": "fffea74e",
   "metadata": {},
   "outputs": [],
   "source": []
  },
  {
   "cell_type": "code",
   "execution_count": 33,
   "id": "b928a501",
   "metadata": {},
   "outputs": [],
   "source": [
    "# Get malicious IP list from document\n",
    "from docx.api import Document"
   ]
  },
  {
   "cell_type": "code",
   "execution_count": 34,
   "id": "d8df7c58",
   "metadata": {},
   "outputs": [],
   "source": [
    "document = Document('listofmaliciousips.docx')\n",
    "table = document.tables[0]"
   ]
  },
  {
   "cell_type": "code",
   "execution_count": 35,
   "id": "5a863132",
   "metadata": {},
   "outputs": [],
   "source": [
    "malicious_ips = []\n",
    "for i, row in enumerate(table.rows):\n",
    "    malicious_ips.extend([ j.text for j in row.cells])"
   ]
  },
  {
   "cell_type": "code",
   "execution_count": 36,
   "id": "80277878",
   "metadata": {},
   "outputs": [],
   "source": [
    "malicious_ips = [ i for i in malicious_ips if len(i) > 0]"
   ]
  },
  {
   "cell_type": "code",
   "execution_count": 37,
   "id": "cc607498",
   "metadata": {},
   "outputs": [
    {
     "data": {
      "text/plain": [
       "['192.168.2.112',\n",
       " '131.202.243.84',\n",
       " '192.168.5.122',\n",
       " '198.164.30.2',\n",
       " '192.168.2.110',\n",
       " '192.168.4.118',\n",
       " '192.168.2.113',\n",
       " '192.168.1.103',\n",
       " '192.168.4.120',\n",
       " '192.168.2.112',\n",
       " '192.168.2.109',\n",
       " '192.168.2.105',\n",
       " '147.32.84.180',\n",
       " '147.32.84.170',\n",
       " '147.32.84.150',\n",
       " '147.32.84.140',\n",
       " '147.32.84.130',\n",
       " '147.32.84.160',\n",
       " '10.0.2.15',\n",
       " '192.168.106.141',\n",
       " '192.168.106.131',\n",
       " '172.16.253.130',\n",
       " '172.16.253.131',\n",
       " '172.16.253.129',\n",
       " '172.16.253.240',\n",
       " '158.65.110.24',\n",
       " '192.168.3.35',\n",
       " '192.168.3.25',\n",
       " '192.168.3.65',\n",
       " '172.29.0.116',\n",
       " '172.29.0.109',\n",
       " '172.16.253.132',\n",
       " '192.168.248.165',\n",
       " '10.37.130.4']"
      ]
     },
     "execution_count": 37,
     "metadata": {},
     "output_type": "execute_result"
    }
   ],
   "source": [
    "malicious_ips"
   ]
  },
  {
   "cell_type": "code",
   "execution_count": 38,
   "id": "20ee1871",
   "metadata": {},
   "outputs": [
    {
     "data": {
      "text/plain": [
       "3782"
      ]
     },
     "execution_count": 38,
     "metadata": {},
     "output_type": "execute_result"
    }
   ],
   "source": [
    "data['ip_src'].isin(malicious_ips).sum()"
   ]
  },
  {
   "cell_type": "code",
   "execution_count": 39,
   "id": "e723bbe9",
   "metadata": {},
   "outputs": [
    {
     "data": {
      "text/plain": [
       "3898"
      ]
     },
     "execution_count": 39,
     "metadata": {},
     "output_type": "execute_result"
    }
   ],
   "source": [
    "data['ip_dst'].isin(malicious_ips).sum()"
   ]
  },
  {
   "cell_type": "code",
   "execution_count": 40,
   "id": "5279fdb2",
   "metadata": {},
   "outputs": [
    {
     "data": {
      "text/plain": [
       "7320"
      ]
     },
     "execution_count": 40,
     "metadata": {},
     "output_type": "execute_result"
    }
   ],
   "source": [
    "15000 - (3782+3898)"
   ]
  },
  {
   "cell_type": "code",
   "execution_count": 41,
   "id": "3eb305cc",
   "metadata": {},
   "outputs": [],
   "source": [
    "import numpy as np\n"
   ]
  },
  {
   "cell_type": "code",
   "execution_count": 42,
   "id": "59c2ab11",
   "metadata": {},
   "outputs": [],
   "source": [
    "# Label each row in dataset as malicious or not\n",
    "data[\"malicious\"] = np.where((data['ip_src'].isin(malicious_ips) | data['ip_dst'].isin(malicious_ips)),1,0)"
   ]
  },
  {
   "cell_type": "code",
   "execution_count": 44,
   "id": "4c965fe9",
   "metadata": {},
   "outputs": [
    {
     "data": {
      "text/html": [
       "<div>\n",
       "<style scoped>\n",
       "    .dataframe tbody tr th:only-of-type {\n",
       "        vertical-align: middle;\n",
       "    }\n",
       "\n",
       "    .dataframe tbody tr th {\n",
       "        vertical-align: top;\n",
       "    }\n",
       "\n",
       "    .dataframe thead th {\n",
       "        text-align: right;\n",
       "    }\n",
       "</style>\n",
       "<table border=\"1\" class=\"dataframe\">\n",
       "  <thead>\n",
       "    <tr style=\"text-align: right;\">\n",
       "      <th></th>\n",
       "      <th>frame_no</th>\n",
       "      <th>eth_src_address</th>\n",
       "      <th>eth_dst_address</th>\n",
       "      <th>ip_src</th>\n",
       "      <th>ip_dst</th>\n",
       "      <th>tcp_src_port</th>\n",
       "      <th>tcp_dst_port</th>\n",
       "      <th>udp_src_port</th>\n",
       "      <th>udp_dst_port</th>\n",
       "      <th>frame_relative_time</th>\n",
       "      <th>frame_length</th>\n",
       "      <th>frame_arival_time</th>\n",
       "      <th>malicious</th>\n",
       "    </tr>\n",
       "  </thead>\n",
       "  <tbody>\n",
       "    <tr>\n",
       "      <th>2439698</th>\n",
       "      <td>2439699</td>\n",
       "      <td>00:44:66:fc:29:af</td>\n",
       "      <td>00:55:22:af:c6:37</td>\n",
       "      <td>195.50.87.130</td>\n",
       "      <td>172.16.2.2</td>\n",
       "      <td>80.0</td>\n",
       "      <td>1097.0</td>\n",
       "      <td>NaN</td>\n",
       "      <td>NaN</td>\n",
       "      <td>-1.211071e+08</td>\n",
       "      <td>96</td>\n",
       "      <td>Oct  8, 2007 21:40:45.952513000 India Standard...</td>\n",
       "      <td>0</td>\n",
       "    </tr>\n",
       "    <tr>\n",
       "      <th>8691406</th>\n",
       "      <td>8691407</td>\n",
       "      <td>00:22:19:20:7b:d3</td>\n",
       "      <td>00:01:02:72:ab:55</td>\n",
       "      <td>192.168.5.122</td>\n",
       "      <td>80.66.211.179</td>\n",
       "      <td>22.0</td>\n",
       "      <td>56055.0</td>\n",
       "      <td>NaN</td>\n",
       "      <td>NaN</td>\n",
       "      <td>-3.658922e+07</td>\n",
       "      <td>850</td>\n",
       "      <td>Jun 13, 2010 02:51:16.699289000 India Standard...</td>\n",
       "      <td>1</td>\n",
       "    </tr>\n",
       "    <tr>\n",
       "      <th>6833917</th>\n",
       "      <td>6833918</td>\n",
       "      <td>00:01:02:72:ab:55</td>\n",
       "      <td>00:e0:b1:87:f5:94</td>\n",
       "      <td>68.178.178.97</td>\n",
       "      <td>192.168.1.105</td>\n",
       "      <td>80.0</td>\n",
       "      <td>18498.0</td>\n",
       "      <td>NaN</td>\n",
       "      <td>NaN</td>\n",
       "      <td>-3.661690e+07</td>\n",
       "      <td>1434</td>\n",
       "      <td>Jun 12, 2010 19:10:01.112932000 India Standard...</td>\n",
       "      <td>0</td>\n",
       "    </tr>\n",
       "    <tr>\n",
       "      <th>1157506</th>\n",
       "      <td>1157507</td>\n",
       "      <td>08:00:27:b5:b7:19</td>\n",
       "      <td>00:1e:49:db:19:c3</td>\n",
       "      <td>147.32.84.165</td>\n",
       "      <td>124.13.76.15</td>\n",
       "      <td>NaN</td>\n",
       "      <td>NaN</td>\n",
       "      <td>7600.0</td>\n",
       "      <td>7600.0</td>\n",
       "      <td>7.795812e+05</td>\n",
       "      <td>1098</td>\n",
       "      <td>Aug 19, 2011 15:04:41.713501000 India Standard...</td>\n",
       "      <td>0</td>\n",
       "    </tr>\n",
       "    <tr>\n",
       "      <th>8575890</th>\n",
       "      <td>8575891</td>\n",
       "      <td>00:09:6b:e9:a9:00</td>\n",
       "      <td>00:e0:b1:87:f5:94</td>\n",
       "      <td>192.168.2.110</td>\n",
       "      <td>69.192.24.88</td>\n",
       "      <td>3902.0</td>\n",
       "      <td>80.0</td>\n",
       "      <td>NaN</td>\n",
       "      <td>NaN</td>\n",
       "      <td>-3.659280e+07</td>\n",
       "      <td>60</td>\n",
       "      <td>Jun 13, 2010 01:51:38.592182000 India Standard...</td>\n",
       "      <td>1</td>\n",
       "    </tr>\n",
       "  </tbody>\n",
       "</table>\n",
       "</div>"
      ],
      "text/plain": [
       "         frame_no    eth_src_address    eth_dst_address         ip_src  \\\n",
       "2439698   2439699  00:44:66:fc:29:af  00:55:22:af:c6:37  195.50.87.130   \n",
       "8691406   8691407  00:22:19:20:7b:d3  00:01:02:72:ab:55  192.168.5.122   \n",
       "6833917   6833918  00:01:02:72:ab:55  00:e0:b1:87:f5:94  68.178.178.97   \n",
       "1157506   1157507  08:00:27:b5:b7:19  00:1e:49:db:19:c3  147.32.84.165   \n",
       "8575890   8575891  00:09:6b:e9:a9:00  00:e0:b1:87:f5:94  192.168.2.110   \n",
       "\n",
       "                ip_dst  tcp_src_port  tcp_dst_port  udp_src_port  \\\n",
       "2439698     172.16.2.2          80.0        1097.0           NaN   \n",
       "8691406  80.66.211.179          22.0       56055.0           NaN   \n",
       "6833917  192.168.1.105          80.0       18498.0           NaN   \n",
       "1157506   124.13.76.15           NaN           NaN        7600.0   \n",
       "8575890   69.192.24.88        3902.0          80.0           NaN   \n",
       "\n",
       "         udp_dst_port  frame_relative_time  frame_length  \\\n",
       "2439698           NaN        -1.211071e+08            96   \n",
       "8691406           NaN        -3.658922e+07           850   \n",
       "6833917           NaN        -3.661690e+07          1434   \n",
       "1157506        7600.0         7.795812e+05          1098   \n",
       "8575890           NaN        -3.659280e+07            60   \n",
       "\n",
       "                                         frame_arival_time  malicious  \n",
       "2439698  Oct  8, 2007 21:40:45.952513000 India Standard...          0  \n",
       "8691406  Jun 13, 2010 02:51:16.699289000 India Standard...          1  \n",
       "6833917  Jun 12, 2010 19:10:01.112932000 India Standard...          0  \n",
       "1157506  Aug 19, 2011 15:04:41.713501000 India Standard...          0  \n",
       "8575890  Jun 13, 2010 01:51:38.592182000 India Standard...          1  "
      ]
     },
     "execution_count": 44,
     "metadata": {},
     "output_type": "execute_result"
    }
   ],
   "source": [
    "data.head()"
   ]
  },
  {
   "cell_type": "code",
   "execution_count": 45,
   "id": "723063c6",
   "metadata": {},
   "outputs": [
    {
     "data": {
      "text/plain": [
       "7272"
      ]
     },
     "execution_count": 45,
     "metadata": {},
     "output_type": "execute_result"
    }
   ],
   "source": [
    "data[\"malicious\"].sum()"
   ]
  },
  {
   "cell_type": "code",
   "execution_count": 46,
   "id": "e75f13f0",
   "metadata": {},
   "outputs": [],
   "source": [
    "data.to_csv('labeled_data.csv', index=False)"
   ]
  },
  {
   "cell_type": "code",
   "execution_count": null,
   "id": "bd2482f8",
   "metadata": {},
   "outputs": [],
   "source": []
  },
  {
   "cell_type": "code",
   "execution_count": null,
   "id": "69869d43",
   "metadata": {},
   "outputs": [],
   "source": []
  },
  {
   "cell_type": "code",
   "execution_count": 169,
   "id": "a733a61e",
   "metadata": {},
   "outputs": [],
   "source": [
    "labeled_ds = pd.read_csv(\"labeled_data.csv\")"
   ]
  },
  {
   "cell_type": "code",
   "execution_count": 170,
   "id": "0904be08",
   "metadata": {},
   "outputs": [
    {
     "data": {
      "text/html": [
       "<div>\n",
       "<style scoped>\n",
       "    .dataframe tbody tr th:only-of-type {\n",
       "        vertical-align: middle;\n",
       "    }\n",
       "\n",
       "    .dataframe tbody tr th {\n",
       "        vertical-align: top;\n",
       "    }\n",
       "\n",
       "    .dataframe thead th {\n",
       "        text-align: right;\n",
       "    }\n",
       "</style>\n",
       "<table border=\"1\" class=\"dataframe\">\n",
       "  <thead>\n",
       "    <tr style=\"text-align: right;\">\n",
       "      <th></th>\n",
       "      <th>frame_no</th>\n",
       "      <th>eth_src_address</th>\n",
       "      <th>eth_dst_address</th>\n",
       "      <th>ip_src</th>\n",
       "      <th>ip_dst</th>\n",
       "      <th>tcp_src_port</th>\n",
       "      <th>tcp_dst_port</th>\n",
       "      <th>udp_src_port</th>\n",
       "      <th>udp_dst_port</th>\n",
       "      <th>frame_relative_time</th>\n",
       "      <th>frame_length</th>\n",
       "      <th>frame_arival_time</th>\n",
       "      <th>malicious</th>\n",
       "    </tr>\n",
       "  </thead>\n",
       "  <tbody>\n",
       "    <tr>\n",
       "      <th>0</th>\n",
       "      <td>2439699</td>\n",
       "      <td>00:44:66:fc:29:af</td>\n",
       "      <td>00:55:22:af:c6:37</td>\n",
       "      <td>195.50.87.130</td>\n",
       "      <td>172.16.2.2</td>\n",
       "      <td>80.0</td>\n",
       "      <td>1097.0</td>\n",
       "      <td>NaN</td>\n",
       "      <td>NaN</td>\n",
       "      <td>-1.211071e+08</td>\n",
       "      <td>96</td>\n",
       "      <td>Oct  8, 2007 21:40:45.952513000 India Standard...</td>\n",
       "      <td>0</td>\n",
       "    </tr>\n",
       "    <tr>\n",
       "      <th>1</th>\n",
       "      <td>8691407</td>\n",
       "      <td>00:22:19:20:7b:d3</td>\n",
       "      <td>00:01:02:72:ab:55</td>\n",
       "      <td>192.168.5.122</td>\n",
       "      <td>80.66.211.179</td>\n",
       "      <td>22.0</td>\n",
       "      <td>56055.0</td>\n",
       "      <td>NaN</td>\n",
       "      <td>NaN</td>\n",
       "      <td>-3.658922e+07</td>\n",
       "      <td>850</td>\n",
       "      <td>Jun 13, 2010 02:51:16.699289000 India Standard...</td>\n",
       "      <td>1</td>\n",
       "    </tr>\n",
       "    <tr>\n",
       "      <th>2</th>\n",
       "      <td>6833918</td>\n",
       "      <td>00:01:02:72:ab:55</td>\n",
       "      <td>00:e0:b1:87:f5:94</td>\n",
       "      <td>68.178.178.97</td>\n",
       "      <td>192.168.1.105</td>\n",
       "      <td>80.0</td>\n",
       "      <td>18498.0</td>\n",
       "      <td>NaN</td>\n",
       "      <td>NaN</td>\n",
       "      <td>-3.661690e+07</td>\n",
       "      <td>1434</td>\n",
       "      <td>Jun 12, 2010 19:10:01.112932000 India Standard...</td>\n",
       "      <td>0</td>\n",
       "    </tr>\n",
       "    <tr>\n",
       "      <th>3</th>\n",
       "      <td>1157507</td>\n",
       "      <td>08:00:27:b5:b7:19</td>\n",
       "      <td>00:1e:49:db:19:c3</td>\n",
       "      <td>147.32.84.165</td>\n",
       "      <td>124.13.76.15</td>\n",
       "      <td>NaN</td>\n",
       "      <td>NaN</td>\n",
       "      <td>7600.0</td>\n",
       "      <td>7600.0</td>\n",
       "      <td>7.795812e+05</td>\n",
       "      <td>1098</td>\n",
       "      <td>Aug 19, 2011 15:04:41.713501000 India Standard...</td>\n",
       "      <td>0</td>\n",
       "    </tr>\n",
       "    <tr>\n",
       "      <th>4</th>\n",
       "      <td>8575891</td>\n",
       "      <td>00:09:6b:e9:a9:00</td>\n",
       "      <td>00:e0:b1:87:f5:94</td>\n",
       "      <td>192.168.2.110</td>\n",
       "      <td>69.192.24.88</td>\n",
       "      <td>3902.0</td>\n",
       "      <td>80.0</td>\n",
       "      <td>NaN</td>\n",
       "      <td>NaN</td>\n",
       "      <td>-3.659280e+07</td>\n",
       "      <td>60</td>\n",
       "      <td>Jun 13, 2010 01:51:38.592182000 India Standard...</td>\n",
       "      <td>1</td>\n",
       "    </tr>\n",
       "  </tbody>\n",
       "</table>\n",
       "</div>"
      ],
      "text/plain": [
       "   frame_no    eth_src_address    eth_dst_address         ip_src  \\\n",
       "0   2439699  00:44:66:fc:29:af  00:55:22:af:c6:37  195.50.87.130   \n",
       "1   8691407  00:22:19:20:7b:d3  00:01:02:72:ab:55  192.168.5.122   \n",
       "2   6833918  00:01:02:72:ab:55  00:e0:b1:87:f5:94  68.178.178.97   \n",
       "3   1157507  08:00:27:b5:b7:19  00:1e:49:db:19:c3  147.32.84.165   \n",
       "4   8575891  00:09:6b:e9:a9:00  00:e0:b1:87:f5:94  192.168.2.110   \n",
       "\n",
       "          ip_dst  tcp_src_port  tcp_dst_port  udp_src_port  udp_dst_port  \\\n",
       "0     172.16.2.2          80.0        1097.0           NaN           NaN   \n",
       "1  80.66.211.179          22.0       56055.0           NaN           NaN   \n",
       "2  192.168.1.105          80.0       18498.0           NaN           NaN   \n",
       "3   124.13.76.15           NaN           NaN        7600.0        7600.0   \n",
       "4   69.192.24.88        3902.0          80.0           NaN           NaN   \n",
       "\n",
       "   frame_relative_time  frame_length  \\\n",
       "0        -1.211071e+08            96   \n",
       "1        -3.658922e+07           850   \n",
       "2        -3.661690e+07          1434   \n",
       "3         7.795812e+05          1098   \n",
       "4        -3.659280e+07            60   \n",
       "\n",
       "                                   frame_arival_time  malicious  \n",
       "0  Oct  8, 2007 21:40:45.952513000 India Standard...          0  \n",
       "1  Jun 13, 2010 02:51:16.699289000 India Standard...          1  \n",
       "2  Jun 12, 2010 19:10:01.112932000 India Standard...          0  \n",
       "3  Aug 19, 2011 15:04:41.713501000 India Standard...          0  \n",
       "4  Jun 13, 2010 01:51:38.592182000 India Standard...          1  "
      ]
     },
     "execution_count": 170,
     "metadata": {},
     "output_type": "execute_result"
    }
   ],
   "source": [
    "labeled_ds.head()"
   ]
  },
  {
   "cell_type": "code",
   "execution_count": 171,
   "id": "3af5989f",
   "metadata": {},
   "outputs": [
    {
     "name": "stdout",
     "output_type": "stream",
     "text": [
      "<class 'pandas.core.frame.DataFrame'>\n",
      "RangeIndex: 15000 entries, 0 to 14999\n",
      "Data columns (total 13 columns):\n",
      " #   Column               Non-Null Count  Dtype  \n",
      "---  ------               --------------  -----  \n",
      " 0   frame_no             15000 non-null  int64  \n",
      " 1   eth_src_address      15000 non-null  object \n",
      " 2   eth_dst_address      15000 non-null  object \n",
      " 3   ip_src               14963 non-null  object \n",
      " 4   ip_dst               14963 non-null  object \n",
      " 5   tcp_src_port         13791 non-null  float64\n",
      " 6   tcp_dst_port         13791 non-null  float64\n",
      " 7   udp_src_port         1174 non-null   float64\n",
      " 8   udp_dst_port         1174 non-null   float64\n",
      " 9   frame_relative_time  15000 non-null  float64\n",
      " 10  frame_length         15000 non-null  int64  \n",
      " 11  frame_arival_time    15000 non-null  object \n",
      " 12  malicious            15000 non-null  int64  \n",
      "dtypes: float64(5), int64(3), object(5)\n",
      "memory usage: 1.5+ MB\n"
     ]
    }
   ],
   "source": [
    "labeled_ds.info()"
   ]
  },
  {
   "cell_type": "code",
   "execution_count": 172,
   "id": "e3037c89",
   "metadata": {},
   "outputs": [],
   "source": [
    "labeled_ds.dropna(subset=['ip_src','ip_dst'], how='all', inplace=True)"
   ]
  },
  {
   "cell_type": "code",
   "execution_count": null,
   "id": "39c705dd",
   "metadata": {},
   "outputs": [],
   "source": []
  },
  {
   "cell_type": "code",
   "execution_count": 173,
   "id": "d019e082",
   "metadata": {},
   "outputs": [
    {
     "data": {
      "text/plain": [
       "Int64Index([14771], dtype='int64')"
      ]
     },
     "execution_count": 173,
     "metadata": {},
     "output_type": "execute_result"
    }
   ],
   "source": [
    "labeled_ds.loc[labeled_ds['tcp_src_port'].isnull() & labeled_ds['udp_src_port'].isnull()].index"
   ]
  },
  {
   "cell_type": "code",
   "execution_count": 174,
   "id": "3964c44b",
   "metadata": {},
   "outputs": [],
   "source": [
    "labeled_ds.drop([14771], inplace=True)"
   ]
  },
  {
   "cell_type": "code",
   "execution_count": 175,
   "id": "b7680050",
   "metadata": {},
   "outputs": [],
   "source": [
    "convert_dict = {'tcp_src_port':str, 'udp_src_port':str, 'tcp_dst_port':str, 'udp_dst_port':str}"
   ]
  },
  {
   "cell_type": "code",
   "execution_count": 176,
   "id": "f347789c",
   "metadata": {},
   "outputs": [],
   "source": [
    "labeled_ds = labeled_ds.astype(convert_dict)\n"
   ]
  },
  {
   "cell_type": "code",
   "execution_count": 177,
   "id": "ecac4142",
   "metadata": {},
   "outputs": [
    {
     "name": "stdout",
     "output_type": "stream",
     "text": [
      "<class 'pandas.core.frame.DataFrame'>\n",
      "Int64Index: 14962 entries, 0 to 14999\n",
      "Data columns (total 13 columns):\n",
      " #   Column               Non-Null Count  Dtype  \n",
      "---  ------               --------------  -----  \n",
      " 0   frame_no             14962 non-null  int64  \n",
      " 1   eth_src_address      14962 non-null  object \n",
      " 2   eth_dst_address      14962 non-null  object \n",
      " 3   ip_src               14962 non-null  object \n",
      " 4   ip_dst               14962 non-null  object \n",
      " 5   tcp_src_port         14962 non-null  object \n",
      " 6   tcp_dst_port         14962 non-null  object \n",
      " 7   udp_src_port         14962 non-null  object \n",
      " 8   udp_dst_port         14962 non-null  object \n",
      " 9   frame_relative_time  14962 non-null  float64\n",
      " 10  frame_length         14962 non-null  int64  \n",
      " 11  frame_arival_time    14962 non-null  object \n",
      " 12  malicious            14962 non-null  int64  \n",
      "dtypes: float64(1), int64(3), object(9)\n",
      "memory usage: 1.6+ MB\n"
     ]
    }
   ],
   "source": [
    "labeled_ds.info()"
   ]
  },
  {
   "cell_type": "code",
   "execution_count": 178,
   "id": "33d334cd",
   "metadata": {},
   "outputs": [],
   "source": [
    "import matplotlib.pyplot as plt\n",
    "import seaborn as sns\n"
   ]
  },
  {
   "cell_type": "code",
   "execution_count": 179,
   "id": "8968c2ec",
   "metadata": {},
   "outputs": [],
   "source": [
    "labeled_ds.drop(['frame_arival_time'], axis=1, inplace=True)"
   ]
  },
  {
   "cell_type": "code",
   "execution_count": 180,
   "id": "c4f7d99d",
   "metadata": {},
   "outputs": [
    {
     "name": "stdout",
     "output_type": "stream",
     "text": [
      "<class 'pandas.core.frame.DataFrame'>\n",
      "Int64Index: 14962 entries, 0 to 14999\n",
      "Data columns (total 12 columns):\n",
      " #   Column               Non-Null Count  Dtype  \n",
      "---  ------               --------------  -----  \n",
      " 0   frame_no             14962 non-null  int64  \n",
      " 1   eth_src_address      14962 non-null  object \n",
      " 2   eth_dst_address      14962 non-null  object \n",
      " 3   ip_src               14962 non-null  object \n",
      " 4   ip_dst               14962 non-null  object \n",
      " 5   tcp_src_port         14962 non-null  object \n",
      " 6   tcp_dst_port         14962 non-null  object \n",
      " 7   udp_src_port         14962 non-null  object \n",
      " 8   udp_dst_port         14962 non-null  object \n",
      " 9   frame_relative_time  14962 non-null  float64\n",
      " 10  frame_length         14962 non-null  int64  \n",
      " 11  malicious            14962 non-null  int64  \n",
      "dtypes: float64(1), int64(3), object(8)\n",
      "memory usage: 1.5+ MB\n"
     ]
    }
   ],
   "source": [
    "labeled_ds.info()"
   ]
  },
  {
   "cell_type": "code",
   "execution_count": 181,
   "id": "c4e35c86",
   "metadata": {},
   "outputs": [],
   "source": [
    "from sklearn.model_selection import train_test_split"
   ]
  },
  {
   "cell_type": "code",
   "execution_count": 184,
   "id": "70e0f2d8",
   "metadata": {},
   "outputs": [],
   "source": [
    "one_hot_data = pd.get_dummies(labeled_ds[['tcp_src_port','tcp_dst_port','udp_src_port','udp_dst_port','frame_relative_time','frame_length','malicious']],drop_first=True)"
   ]
  },
  {
   "cell_type": "code",
   "execution_count": 185,
   "id": "ee0587a5",
   "metadata": {},
   "outputs": [],
   "source": [
    "train, test = train_test_split(one_hot_data, test_size=0.3)"
   ]
  },
  {
   "cell_type": "code",
   "execution_count": null,
   "id": "c6430e07",
   "metadata": {},
   "outputs": [],
   "source": []
  },
  {
   "cell_type": "code",
   "execution_count": 191,
   "id": "9bf08afe",
   "metadata": {},
   "outputs": [],
   "source": [
    "from sklearn.tree import DecisionTreeClassifier\n",
    "from sklearn import metrics"
   ]
  },
  {
   "cell_type": "code",
   "execution_count": 163,
   "id": "42345cab",
   "metadata": {},
   "outputs": [],
   "source": [
    "model_tree = DecisionTreeClassifier()"
   ]
  },
  {
   "cell_type": "code",
   "execution_count": 186,
   "id": "e0ec51e9",
   "metadata": {},
   "outputs": [
    {
     "data": {
      "text/plain": [
       "DecisionTreeClassifier()"
      ]
     },
     "execution_count": 186,
     "metadata": {},
     "output_type": "execute_result"
    }
   ],
   "source": [
    "model_tree.fit(train.drop(['malicious'], axis=1), train['malicious'])"
   ]
  },
  {
   "cell_type": "code",
   "execution_count": 187,
   "id": "b2a3d381",
   "metadata": {},
   "outputs": [],
   "source": [
    "y_pred = model_tree.predict(test.drop(['malicious'], axis=1))"
   ]
  },
  {
   "cell_type": "code",
   "execution_count": 188,
   "id": "dd345ae0",
   "metadata": {},
   "outputs": [],
   "source": []
  },
  {
   "cell_type": "code",
   "execution_count": 192,
   "id": "06fd6c47",
   "metadata": {},
   "outputs": [
    {
     "name": "stdout",
     "output_type": "stream",
     "text": [
      "Accuracy: 0.8859434172421474\n"
     ]
    }
   ],
   "source": [
    "print(\"Accuracy:\",metrics.accuracy_score(test['malicious'], y_pred))"
   ]
  },
  {
   "cell_type": "code",
   "execution_count": null,
   "id": "9232f8b1",
   "metadata": {},
   "outputs": [],
   "source": []
  }
 ],
 "metadata": {
  "kernelspec": {
   "display_name": "Python 3 (ipykernel)",
   "language": "python",
   "name": "python3"
  },
  "language_info": {
   "codemirror_mode": {
    "name": "ipython",
    "version": 3
   },
   "file_extension": ".py",
   "mimetype": "text/x-python",
   "name": "python",
   "nbconvert_exporter": "python",
   "pygments_lexer": "ipython3",
   "version": "3.8.12"
  }
 },
 "nbformat": 4,
 "nbformat_minor": 5
}
